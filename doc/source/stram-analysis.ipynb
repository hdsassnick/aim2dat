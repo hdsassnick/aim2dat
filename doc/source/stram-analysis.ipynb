{
 "cells": [
  {
   "cell_type": "raw",
   "id": "d3920c93-ebcf-4908-a32a-743ae6c13f4d",
   "metadata": {
    "raw_mimetype": "text/restructuredtext"
   },
   "source": [
    "================\n",
    "Analysis methods\n",
    "================\n",
    "\n",
    "\n",
    "The implemented analysis methods can be distinguished into two categories:\n",
    "\n",
    "* A set of frequently used methods is implemented as functions in the :class:`Structure <aim2dat.strct.Structure>` and :class:`StructureOperations <aim2dat.strct.StructureOperations>` classes.\n",
    "* Additional analysis methods are implemented in the :mod:`ext_analysis <aim2dat.strct.ext_analysis>` module which can be used on the :class:`Structure <aim2dat.strct.Structure>` and :class:`StructureOperations <aim2dat.strct.StructureOperations>` classes as well.\n",
    "\n",
    "Using the :meth:`external_manipulation_method <aim2dat.strct.ext_manipulation.decorator.external_manipulation_method>` decorator, new analysis methods can be easily defined and interfaced with :class:`Structure <aim2dat.strct.Structure>` and :class:`StructureOperations <aim2dat.strct.StructureOperations>` objects.\n",
    "\n",
    "All analysis methods store two different types of output data:\n",
    "\n",
    "* A complete and extensive set of results is stored in the :attr:`extras <aim2dat.strct.Structure.extras>` property and is returned by caling the function itself. \n",
    "* A representative subset of the data is stored in the :attr:`attributes <aim2dat.strct.Structure.attributes>` property.\n",
    "\n",
    "As an example we identify the space group of the crystal using the |spglib_page| Python package as backend:"
   ]
  },
  {
   "cell_type": "code",
   "execution_count": null,
   "id": "f6775f28-ae62-4a52-8966-45736eb75759",
   "metadata": {},
   "outputs": [],
   "source": [
    "from aim2dat.strct import Structure\n",
    "\n",
    "strct = Structure(\n",
    "    label=\"GaAs\",\n",
    "    elements=[\"Ga\", \"As\"],\n",
    "    positions=[\n",
    "        [0.0, 0.0, 0.0],\n",
    "        [1.75, 1.75, 1.75],\n",
    "    ],\n",
    "    cell=[\n",
    "        [0.0, 4.066, 4.0660001],\n",
    "        [4.066, 0.0, 4.066],\n",
    "        [4.066, 4.066, 0.0],\n",
    "    ],\n",
    "    is_cartesian=False,\n",
    "    wrap=True,\n",
    "    pbc=[True, True, True],\n",
    ")\n",
    "strct.determine_space_group()\n",
    "\n",
    "print(\"Attributes:\", strct.attributes[\"space_group\"])\n",
    "print(\"Extras:\", strct.extras[\"space_group\"])"
   ]
  },
  {
   "cell_type": "raw",
   "id": "1bb9aeed-c495-43c2-8c0d-a4a7885a125a",
   "metadata": {
    "raw_mimetype": "text/restructuredtext"
   },
   "source": [
    "In case the same analysis function of the instance is called again with the same parameters, the stored data in the :attr:`extras <aim2dat.strct.Structure.extras>` property is returned instead of performing the same analysis again. \n",
    "This feature is very handy, but may also demand large memory capacities. Thus, it can be switched off via the :attr:`store_calculated_properties <aim2dat.strct.Structure.store_calculated_properties>` property."
   ]
  },
  {
   "cell_type": "raw",
   "id": "68baae2f-57a8-4bde-bb00-f6d26fc5006b",
   "metadata": {
    "raw_mimetype": "text/restructuredtext"
   },
   "source": [
    "Internal analysis methods\n",
    "=========================\n",
    "\n",
    "The internal analysis methods are implemented as functions in the  :class:`Structure <aim2dat.strct.Structure>` and :class:`StructureOperations <aim2dat.strct.StructureOperations>` classes. In case of a single :class:`Structure <aim2dat.strct.Structure>` object the function can be directly called (in this example the distance between the two sites is calculated via :meth:`calculate_distance <aim2dat.strct.Structure.calculate_distance>`):"
   ]
  },
  {
   "cell_type": "code",
   "execution_count": 1,
   "id": "0bb38316-d97b-4aaa-8f22-3c8f4a4b6ca0",
   "metadata": {},
   "outputs": [
    {
     "data": {
      "text/plain": [
       "3.521259277353771"
      ]
     },
     "execution_count": 1,
     "metadata": {},
     "output_type": "execute_result"
    }
   ],
   "source": [
    "strct.calculate_distance(0, 1)"
   ]
  },
  {
   "cell_type": "raw",
   "id": "1ec65c31-9480-49c7-8dd4-b711b8e86d5d",
   "metadata": {
    "raw_mimetype": "text/restructuredtext"
   },
   "source": [
    "As for a :class:`StructureOperations <aim2dat.strct.StructureOperations>` object, the function can be called on one structure or several structures via single key or list of keys, respectively:"
   ]
  },
  {
   "cell_type": "code",
   "execution_count": 2,
   "id": "917e4954-b196-4654-8869-c1b06216ccab",
   "metadata": {},
   "outputs": [
    {
     "data": {
      "text/plain": [
       "3.521259277353771"
      ]
     },
     "execution_count": 2,
     "metadata": {},
     "output_type": "execute_result"
    }
   ],
   "source": [
    "from aim2dat.strct import StructureOperations\n",
    "\n",
    "strct_op = StructureOperations(structures=[strct])\n",
    "strct_op[0].calculate_distance(0, 1)"
   ]
  },
  {
   "cell_type": "raw",
   "id": "1380783a-0501-4af9-a604-0f5c41d2369e",
   "metadata": {
    "raw_mimetype": "text/restructuredtext"
   },
   "source": [
    ".. warning::\n",
    "   It should to be stressed that a single key, e.g., ``strct_op[0].calculate_distance(0, 1)``, and a list of keys, e.g., ``strct_op[[0]].calculate_distance(0, 1)``, results in different output.\n",
    "\n",
    "A list of all internal analysis methods is printed via:"
   ]
  },
  {
   "cell_type": "code",
   "execution_count": 14,
   "id": "fc0a8898-513d-4a2b-8eaf-ae8709df703e",
   "metadata": {},
   "outputs": [
    {
     "data": {
      "text/plain": [
       "['determine_point_group',\n",
       " 'determine_space_group',\n",
       " 'calculate_distance',\n",
       " 'calculate_angle',\n",
       " 'calculate_dihedral_angle',\n",
       " 'calculate_voronoi_tessellation',\n",
       " 'calculate_coordination',\n",
       " 'calculate_ffingerprint']"
      ]
     },
     "execution_count": 14,
     "metadata": {},
     "output_type": "execute_result"
    }
   ],
   "source": [
    "strct.list_analysis_methods()"
   ]
  },
  {
   "cell_type": "raw",
   "id": "ca4a5653-6c15-435d-a989-60be5954b697",
   "metadata": {
    "raw_mimetype": "text/restructuredtext"
   },
   "source": [
    "Distances and angles\n",
    "--------------------\n",
    "\n",
    "The functions :meth:`calculate_distance <aim2dat.strct.Structure.calculate_distance>`, :meth:`calculate_angle <aim2dat.strct.Structure.calculate_angle>` and :meth:`calculate_dihedral_angle <aim2dat.strct.Structure.calculate_dihedral_angle>` calculate the distance, angle and dihedral angle between two, three and four atomic sites, respectively. Thus, the first two, three and four arguments are given by the site indices.\n",
    "\n",
    "The :meth:`calculate_distance <aim2dat.strct.Structure.calculate_distance>` function has a more enhanced interface: If the first parameter is a list and the second parameter is ``None``, all index combinations of the list are returned:"
   ]
  },
  {
   "cell_type": "code",
   "execution_count": 3,
   "id": "3c996586-152f-4a58-a44b-b03631fce0e1",
   "metadata": {},
   "outputs": [],
   "source": [
    "strct.calculate_distance([0, 1], None)"
   ]
  },
  {
   "cell_type": "raw",
   "id": "e7309388-fa25-4591-ad79-a28635163c99",
   "metadata": {
    "raw_mimetype": "text/restructuredtext"
   },
   "source": [
    "The keyword argument ``use_supercell`` returns a list of distances including periodic replica of the atom sites up to a distance defined by the cutoff distance ``r_max``:"
   ]
  },
  {
   "cell_type": "code",
   "execution_count": 4,
   "id": "e76ba150-6c59-499b-a7d4-6dcec3d2701e",
   "metadata": {},
   "outputs": [],
   "source": [
    "strct.calculate_distance(0, 1, use_supercell=True, r_max=5.0)"
   ]
  },
  {
   "cell_type": "raw",
   "id": "d3be2bcc-c03b-48fe-becc-04c5e52eed4c",
   "metadata": {
    "raw_mimetype": "text/restructuredtext"
   },
   "source": [
    "Point group\n",
    "-----------\n",
    "\n",
    "The function :meth:`determine_point_group <aim2dat.strct.Structure.determine_point_group>` indentifies the point group of non-periodic structures.\n",
    "\n",
    ".. warning::\n",
    "   This method has to be considered as experimental. The implementation is not yet complete and may not work for all point groups correctly.\n",
    "\n",
    "Space group\n",
    "-----------\n",
    "\n",
    "The function :meth:`determine_space_group <aim2dat.strct.Structure.determine_space_group>` identifies symmetry operations, the point group and the space group of periodic structures making use of the |spglib_page| Python package. Additionally, a list of equivalent sites is returned as well. Optional output includes a list of symmetry operations, the primitive and the standardized unit cell, controlled by the keyword arguments ``return_primitive_structure``, ``return_standardized_structure`` and ``return_sym_operations``.\n",
    "\n",
    ".. |spglib_page| raw:: html\n",
    "\n",
    "   <a href=\"https://spglib.readthedocs.io/\" target=\"_blank\">spglib</a>"
   ]
  },
  {
   "cell_type": "code",
   "execution_count": 5,
   "id": "3c605ac6-c5f2-4807-9f02-b41dfc4d11e2",
   "metadata": {},
   "outputs": [
    {
     "data": {
      "text/plain": [
       "{'equivalent_sites': [{'wyckoff': 'a', 'symmetry': '-43m', 'sites': [0]},\n",
       "  {'wyckoff': 'c', 'symmetry': '-43m', 'sites': [1]}],\n",
       " 'space_group': {'number': 216,\n",
       "  'international_short': 'F-43m',\n",
       "  'international_full': 'F -4 3 m',\n",
       "  'international': 'F -4 3 m',\n",
       "  'schoenflies': 'Td^2',\n",
       "  'hall_number': 512,\n",
       "  'hall_symbol': 'F -4 2 3',\n",
       "  'choice': '',\n",
       "  'pointgroup_international': '-43m',\n",
       "  'pointgroup_schoenflies': 'Td',\n",
       "  'arithmetic_crystal_class_number': 69,\n",
       "  'arithmetic_crystal_class_symbol': '-43mF',\n",
       "  'centrosymmetric': False}}"
      ]
     },
     "execution_count": 5,
     "metadata": {},
     "output_type": "execute_result"
    }
   ],
   "source": [
    "strct.determine_space_group()"
   ]
  },
  {
   "cell_type": "raw",
   "id": "61af576e-bc28-4cc0-90ed-cbd4a5050709",
   "metadata": {
    "raw_mimetype": "text/restructuredtext"
   },
   "source": [
    "Coordination\n",
    "------------\n",
    "\n",
    "The calculation of the coordination environment of atom sites in molecules or crystals is relevant for a manifold of use cases, ranging from the parametrization of classical force fields and the generation of graphs for neural networks to rationalizing chemical trends and determining the oxidation state of the site.\n",
    "Unfortunately, the one single algorithm to do the job does not exist, and the coordination environment itself can (in many cases) not be uniquely defined.\n",
    "The function :meth:`calculate_coordination <aim2dat.strct.Structure.calculate_coordination>` implements several algorithms selected via the key word argument ``method`` (an overview and comparison of a subset of the implemented methods is also given in :doi:`10.1021/acs.inorgchem.0c02996`). The following options are supported:\n",
    "\n",
    "* ``minimum_distance``: The method determines the coordination based on the distance :math:`d_\\mathrm{min}` to the nearest neighbouring atom. A neighbouring atom is coordinated if the condition\n",
    "\n",
    "  .. math::\n",
    "\n",
    "     d_{ij} < d_\\mathrm{min}\\cdot (1.0 + \\Delta d)\n",
    "\n",
    "  is True, with :math:`d_{ij}` being the distance between the two atoms and :math:`\\Delta d` is a tolerance threshold given by the key word argument ``distance_delta``.\n",
    "\n",
    "* ``n_nearest_neighbours``: The method considers the :math:`n` closest atoms as coordinated.\n",
    "\n",
    "* ``atomic_radius``: The sum of atomic radii :math:`r_i` and :math:`r_j` (including a tolerance threshold :math:`\\Delta d`) is taken as condition to consider two atoms coordinated:\n",
    "\n",
    "  .. math::\n",
    "\n",
    "     d_{ij} < (r_i + r_j)\\cdot (1.0 + \\Delta d).\n",
    "\n",
    "  The tolerance threshold :math:`\\Delta d` is defined via the key word argument ``atomic_radius_delta``. Different radius types can be selected via the key word argument ``radius_type``. Supported options are implemente in the :meth:`get_atomic_radius<aim2dat.utils.element_properties.get_atomic_radius>` function. If the radius for an element is not defined, the ``'covalent'`` radius type is used as fallback.\n",
    "\n",
    "* ``econ``: The econ algorithm has been introduced in :doi:`10.1524/zkri.1979.150.14.23`, in this case the coordination environment is determined via an iterative scheme.\n",
    "\n",
    "* ``voronoi``: This option allows to use a Voronoi tessellation as base to determine coordinated sites. The parameter ``voronoi_weight_type`` implements a weight condition with the supported options:\n",
    "\n",
    "  * ``'covalent_atomic_radius'`` or ``'vdw_atomic_radius'``: The weight is calculated via the difference between the distance between the two sites and the sum of their covalent or van der Waals atomic radii.\n",
    "\n",
    "  * ``'solid_angle'``: The solid angle of the Voronoi facet is used as weight.\n",
    "\n",
    "  * ``'area'``: The area of the Voronoi facet is used as weight.\n",
    "\n",
    "  Adding the prefix ``'rel_'`` to the parameter (e.g. ``'rel_solid_angle'``), will result in all weight values being divided by the maximum weight. The parameter ``voronoi_weight_threshold`` then defines the lower threshold (``weight > voronoi_weight_threshold``) for the site to be considered coordinated. This way different methods can be assessed, e.g. setting  it to ``rel_solid_angle`` gives the method introduced by O'Keeffe (:doi:`10.1107/S0567739479001765`) or ``covalent_atomic_radius`` with the threshold 0.25 gives the method described in :doi:`10.1038/ncomms15679`.\n",
    "\n",
    "The final output is given as a dictionary:"
   ]
  },
  {
   "cell_type": "code",
   "execution_count": 10,
   "id": "0dfb6d98-a3bd-49ea-82f7-381af5f6272e",
   "metadata": {},
   "outputs": [
    {
     "data": {
      "text/plain": [
       "dict_keys(['distance_avg', 'distance_stdev', 'distance_max', 'distance_min', 'nrs_avg', 'nrs_stdev', 'nrs_max', 'nrs_min', 'sites'])"
      ]
     },
     "execution_count": 10,
     "metadata": {},
     "output_type": "execute_result"
    }
   ],
   "source": [
    "coord_dict = strct.calculate_coordination(\n",
    "    method=\"atomic_radius\", atomic_radius_delta=0.5\n",
    ")\n",
    "coord_dict.keys()"
   ]
  },
  {
   "cell_type": "raw",
   "id": "fe7e0b7b-989b-40c5-975f-bd71d8f1f68f",
   "metadata": {
    "raw_mimetype": "text/restructuredtext"
   },
   "source": [
    "including statistical quantities as well as detailed information of each atomic site within the key ``'sites'``, stored as a list (the order of the sites in :class:`Structure <aim2dat.strct.Structure>` object is maintained):"
   ]
  },
  {
   "cell_type": "code",
   "execution_count": 11,
   "id": "8c46abb6-ae69-473a-8093-5147277d56bd",
   "metadata": {},
   "outputs": [
    {
     "data": {
      "text/plain": [
       "{'Ga': 0,\n",
       " 'As': 4,\n",
       " 'element': 'Ga',\n",
       " 'kind': None,\n",
       " 'position': [0.0, 0.0, 0.0],\n",
       " 'neighbours': [{'element': 'As',\n",
       "   'kind': None,\n",
       "   'site_index': 1,\n",
       "   'distance': 3.5212593062212845,\n",
       "   'position': [-2.033, -2.033, -2.0330000249999998]},\n",
       "  {'element': 'As',\n",
       "   'kind': None,\n",
       "   'site_index': 1,\n",
       "   'distance': 3.5212593062212845,\n",
       "   'position': [2.033, 2.033, -2.0330000249999998]},\n",
       "  {'element': 'As',\n",
       "   'kind': None,\n",
       "   'site_index': 1,\n",
       "   'distance': 3.521259277353771,\n",
       "   'position': [2.0330000000000004, -2.033, 2.032999975]},\n",
       "  {'element': 'As',\n",
       "   'kind': None,\n",
       "   'site_index': 1,\n",
       "   'distance': 3.5212593350887986,\n",
       "   'position': [-2.033, 2.0330000000000004, 2.0330000750000004]}],\n",
       " 'total_cn': 4,\n",
       " 'min_dist': 3.521259277353771,\n",
       " 'max_dist': 3.5212593350887986,\n",
       " 'avg_dist': 3.5212593062212845}"
      ]
     },
     "execution_count": 11,
     "metadata": {},
     "output_type": "execute_result"
    }
   ],
   "source": [
    "coord_dict[\"sites\"][0]"
   ]
  },
  {
   "cell_type": "raw",
   "id": "93191af5-61b0-4701-a18b-73953f0fe4ab",
   "metadata": {
    "raw_mimetype": "text/restructuredtext"
   },
   "source": [
    "F-Fingerprint\n",
    "-------------\n",
    "\n",
    "The F-Fingerprint has been introduced in :doi:`10.1063/1.3079326` and aims to compare polymorphs and quantify their similarity, using radial distribution functions. The :meth:`calculate_ffingerprint <aim2dat.strct.Structure.calculate_ffingerprint>` function calculates the distribution functions for each element-pair and individual sites.\n",
    "\n",
    "External analysis methods\n",
    "=========================\n",
    "\n",
    "The external analysis methods take the :class:`Structure <aim2dat.strct.Structure>` as input and return the calculated property (taking the :meth:`calculate_prdf <aim2dat.strct.ext_analysis.calculate_prdf>` as example):"
   ]
  },
  {
   "cell_type": "code",
   "execution_count": null,
   "id": "42a59150-ba69-4452-a02f-ce60bf157718",
   "metadata": {},
   "outputs": [],
   "source": [
    "from aim2dat.strct.ext_analysis import calculate_prdf\n",
    "\n",
    "prdf = calculate_prdf(strct)"
   ]
  },
  {
   "cell_type": "raw",
   "id": "4d870919-6767-414c-9d3d-5c553775f3c4",
   "metadata": {
    "raw_mimetype": "text/restructuredtext"
   },
   "source": [
    "Alternatively, the methods can also be used within a :class:`StructureOperations <aim2dat.strct.StructureOperations>` object:"
   ]
  },
  {
   "cell_type": "code",
   "execution_count": null,
   "id": "0d9fdadc-03cd-4f6a-995d-124f13acd717",
   "metadata": {},
   "outputs": [],
   "source": [
    "prdf = strct_op[0].perform_analysis(calculate_prdf)"
   ]
  },
  {
   "cell_type": "raw",
   "id": "f87afe17-52bc-4fa5-a37e-7ce75a5c02df",
   "metadata": {
    "raw_mimetype": "text/restructuredtext"
   },
   "source": [
    "Molecular fragments and graphs\n",
    "------------------------------\n",
    "\n",
    "The method :meth:`determine_molecular_fragments <aim2dat.strct.ext_analysis.determine_molecular_fragments>` aims to determine molecular fragments in organic or hybrid inorganic-organic structures based on the coordination environment of each site calculated with the :meth:`calculate_coordination <aim2dat.strct.Structure.calculate_coordination>` function. the parameter ``exclude_elements`` or ``end_points`` restrict the \n",
    "\n",
    "The method :meth:`create_graph <aim2dat.strct.ext_analysis.create_graph>` creates a graph with the atom sites as nodes and the edges represent coordinated sites. Once again, the :meth:`calculate_coordination <aim2dat.strct.Structure.calculate_coordination>` function is used to identify coordinated sites.\n",
    "\n",
    "Partial radial distribution functions\n",
    "-------------------------------------\n",
    "\n",
    "The implementation of the :meth:`calculate_prdf <aim2dat.strct.ext_analysis.calculate_prdf>` function is based on :doi:`` and its output is similar to the F-Fingerprint, however, in this case there is no Gaussian broadening applied and the normalization factor is differs as well.\n",
    "\n",
    "Order parameters\n",
    "----------------\n",
    "\n",
    "The library offers two different order parameters via the :meth:`calculate_prdf <aim2dat.strct.ext_analysis.calculate_ffingerprint_order_p>` and :meth:`calculate_prdf <aim2dat.strct.ext_analysis.calculate_warren_cowley_order_p>` functions as defined in :doi:`10.1016/j.cpc.2010.06.007` and :doi:`10.1103/PhysRevB.89.205118`, respectively.\n",
    "\n",
    "Planes\n",
    "------\n",
    "\n",
    "The :meth:`calculate_planes <aim2dat.strct.ext_analysis.calculate_planes>` method identifies the plane which including all atom sites of the :class:`Structure <aim2dat.strct.Structure>` or the sites given by the ``fragment`` parameter. It was originally designed to produce the input for the |critic2_page| code.\n",
    "\n",
    "Dscribe descriptors\n",
    "-------------------\n",
    "\n",
    "Wrapping the |dscribe_page| Python package, different interaction matrices and other descriptors are calculated using the functions :meth:`calculate_interaction_matrix <aim2dat.strct.ext_analysis.calculate_interaction_matrix>`, :meth:`calculate_acsf_descriptor <aim2dat.strct.ext_analysis.calculate_acsf_descriptor>`, :meth:`calculate_soap_descriptor <aim2dat.strct.ext_analysis.calculate_soap_descriptor>` and :meth:`calculate_mbtr_descriptor <aim2dat.strct.ext_analysis.calculate_mbtr_descriptor>`.\n",
    "\n",
    "Designing new methods\n",
    "---------------------\n",
    "\n",
    "New external analysis methods which seamlessly interface with the :class:`Structure <aim2dat.strct.Structure>` and :class:`StructureOperations <aim2dat.strct.StructureOperations>` classes can be implemented by using the :meth:`external_analysis_method <aim2dat.strct.ext_analysis.decorator.external_analysis_method>` decorator.\n",
    "To work properly, the first argument needs to be named `structure` with a :class:`Structure <aim2dat.strct.Structure>` object as input and the output needs to be a tuple with a length of two consisting of the calculated attributes and extras.\n",
    "\n",
    "The function ``calculate_n_element`` shown below represents an example for an external analysis method.\n",
    "It determines how many atoms of a specific element are present in the :class:`Structure <aim2dat.strct.Structure>` and returns it in :attr:`extras <aim2dat.strct.Structure.extras>`.\n",
    "\n",
    ".. |dscribe_page| raw:: html\n",
    "\n",
    "   <a href=\"https://singroup.github.io/dscribe/\" target=\"_blank\">Dscribe</a>\n",
    "\n",
    ".. |critic2_page| raw:: html\n",
    "\n",
    "   <a href=\"https://aoterodelaroza.github.io/critic2/\" target=\"_blank\">critic2</a>"
   ]
  },
  {
   "cell_type": "code",
   "execution_count": null,
   "id": "f1e22357-32b0-448c-8404-f744397d99cd",
   "metadata": {},
   "outputs": [],
   "source": [
    "from aim2dat.strct.ext_analysis.decorator import external_analysis_method\n",
    "from aim2dat.utils.element_properties import get_element_symbol\n",
    "\n",
    "\n",
    "@external_analysis_method\n",
    "def determine_n_element(structure, element=\"H\"):\n",
    "    element = get_element_symbol(element)\n",
    "    if element in structure.chem_formula:\n",
    "        return (None, structure.chem_formula[element])\n",
    "    else:\n",
    "        return (None, 0)\n",
    "\n",
    "\n",
    "determine_n_element(strct, \"Ga\")\n",
    "strct.extras[\"n_element\"]"
   ]
  },
  {
   "cell_type": "raw",
   "id": "73876445-2be9-4aa1-b4e1-e6686c85ac94",
   "metadata": {
    "raw_mimetype": "text/restructuredtext"
   },
   "source": [
    "Related examples\n",
    "================\n",
    "\n",
    "* :doc:`Calculating the coordination numbers for different atomic sites <examples/strct-coordination_number_analysis>`\n",
    "* :doc:`Calculating the F-Fingerprint to compare crystal structures <examples/strct-partial_rdf>`\n",
    "\n",
    "Related API instances\n",
    "=====================\n",
    "\n",
    "* :class:`Structure <aim2dat.strct.Structure>`\n",
    "* :class:`StructureOperations <aim2dat.strct.StructureOperations>`\n",
    "* :mod:`ext_analysis <aim2dat.strct.ext_analysis>`"
   ]
  }
 ],
 "metadata": {
  "kernelspec": {
   "display_name": "Python 3 (ipykernel)",
   "language": "python",
   "name": "python3"
  },
  "language_info": {
   "codemirror_mode": {
    "name": "ipython",
    "version": 3
   },
   "file_extension": ".py",
   "mimetype": "text/x-python",
   "name": "python",
   "nbconvert_exporter": "python",
   "pygments_lexer": "ipython3",
   "version": "3.11.11"
  }
 },
 "nbformat": 4,
 "nbformat_minor": 5
}
