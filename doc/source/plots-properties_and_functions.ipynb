{
 "cells": [
  {
   "cell_type": "raw",
   "id": "6d5990c7",
   "metadata": {
    "raw_mimetype": "text/restructuredtext"
   },
   "source": [
    "===============\n",
    "Common features\n",
    "===============\n",
    "\n",
    "The different plot classes share a large number of features and properties that are inherited from the same base plot class and are presented in the following sections.\n",
    "  \n",
    "Automatic axis settings\n",
    "=======================\n",
    "\n",
    "Most of the plot classes will try to set correct axis labels based on the input data set automatically if the x- or y-label properties are ``None``. This feature is convenient in most cases and it helps to produce appropriate plots out-of-the-box, however, sometimes the user may want to manually set the axis properties. This can be accomplished by switching off this feature via the :meth:`auto_set_axis_properties <aim2dat.plots.BandStructurePlot.auto_set_axis_properties>` function (here examplified using the :class:`BandStructurePlot <aim2dat.plots.BandStructurePlot>` class):"
   ]
  },
  {
   "cell_type": "code",
   "execution_count": null,
   "id": "1f05cf2e",
   "metadata": {},
   "outputs": [],
   "source": [
    "from aim2dat.io import read_cp2k_band_structure\n",
    "from aim2dat.plots import BandStructurePlot\n",
    "\n",
    "plot = BandStructurePlot()\n",
    "plot.ratio = (7, 3)\n",
    "plot.y_range = [-10, 10]\n",
    "plot.import_band_structure(\n",
    "    \"test\",\n",
    "    **read_cp2k_band_structure(\"../../example_notebooks/files/el_bands_cp2k/bands.bs\"),\n",
    ")\n",
    "plot.plot(\"test\")"
   ]
  },
  {
   "cell_type": "raw",
   "id": "7d1c3df7",
   "metadata": {
    "raw_mimetype": "text/restructuredtext"
   },
   "source": [
    "The y-label is set to the default label which is ``'Energy in eV'`` for the band structure plot. The default label can be overwritten by setting the property :attr:`y_label <aim2dat.plots.BandStructurePlot.y_label>` or via the \n",
    ":meth:`auto_set_axis_properties <aim2dat.plots.BandStructurePlot.auto_set_axis_properties>` function:"
   ]
  },
  {
   "cell_type": "code",
   "execution_count": null,
   "id": "fa5e4536",
   "metadata": {},
   "outputs": [],
   "source": [
    "plot.y_label = \"new label\"\n",
    "plot.plot(\"test\")"
   ]
  },
  {
   "cell_type": "code",
   "execution_count": null,
   "id": "ef883c34",
   "metadata": {},
   "outputs": [],
   "source": [
    "plot.y_label = None\n",
    "plot.auto_set_axis_properties(set_x_label=False, set_y_label=False)\n",
    "plot.plot(\"test\")"
   ]
  },
  {
   "cell_type": "raw",
   "id": "5eee803a",
   "metadata": {
    "raw_mimetype": "text/restructuredtext"
   },
   "source": [
    "Plot customizations\n",
    "===================\n",
    "\n",
    "A manifold of settings can be changed for the matplotlib backend by writing a customized style sheet (a detailed description is given in the |matplotlib_stylesheet|) and setting the path to the file via the :attr:`style_sheet <aim2dat.plots.SimplePlot.style_sheet>` property.\n",
    "The default style sheet file can be found in ``aim2dat/plots/matplotlib_style_sheets/custom_settings.mplstyle``.\n",
    "\n",
    "Additionally, there are bunch of ``custom_*`` properties that change certain aspects of the plots. It needs to be noted that at the moment not all plots support all of those properties.\n",
    "We examplify a few of these properties once again using the :class:`BandStructurePlot <aim2dat.plots.BandStructurePlot>` class.\n",
    "The properties :attr:`custom_colors <aim2dat.plots.BandStructurePlot.custom_colors>`, :attr:`custom_linestyles <aim2dat.plots.BandStructurePlot.custom_linestyles>`, :attr:`custom_linewidths <aim2dat.plots.BandStructurePlot.custom_linewidths>`, :attr:`custom_markers <aim2dat.plots.BandStructurePlot.custom_markers>` and :attr:`custom_alpha <aim2dat.plots.BandStructurePlot.custom_alpha>` expect a list as input. Each list item usually applies to the elements of the specific data set in the same order as the `data_labels` are given in the :meth:`plot <aim2dat.plots.BandStructurePlot.plot>` function:\n",
    "\n",
    ".. |matplotlib_stylesheet| raw:: html\n",
    "\n",
    "   <a href=\"https://matplotlib.org/stable/gallery/style_sheets/index.html\">matplotlib documentation</a>"
   ]
  },
  {
   "cell_type": "code",
   "execution_count": null,
   "id": "612d5314",
   "metadata": {},
   "outputs": [],
   "source": [
    "plot.custom_colors = [\"orange\"]\n",
    "plot.custom_linewidths = [2]\n",
    "plot.custom_linestyles = [\":\"]"
   ]
  },
  {
   "cell_type": "raw",
   "id": "e16bfc32",
   "metadata": {
    "raw_mimetype": "text/restructuredtext"
   },
   "source": [
    "The properties :attr:`custom_xticks <aim2dat.plots.SimplePlot.custom_xticks>` and :attr:`custom_yticks <aim2dat.plots.SimplePlot.custom_yticks>` expect a list of float numbers or a nested list in case of several subplots; the properties :attr:`custom_xticklabels <aim2dat.plots.SimplePlot.custom_xticklabels>` and :attr:`custom_yticklabels <aim2dat.plots.SimplePlot.custom_yticklabels>` expect a list or nested list of strings:"
   ]
  },
  {
   "cell_type": "code",
   "execution_count": null,
   "id": "71941916",
   "metadata": {},
   "outputs": [],
   "source": [
    "plot.custom_xticks = [0, 1.2, 2.0, 5.0]\n",
    "plot.custom_xticklabels = [\"T\", \"E\", \"S\", \"T\"]\n",
    "plot.custom_yticks = [-10.0, -7.5, -5.0, -2.5, 0.0, 2.5, 5.0, 7.5, 10.0]\n",
    "plot.plot(\"test\")"
   ]
  },
  {
   "cell_type": "raw",
   "id": "42776a93",
   "metadata": {
    "raw_mimetype": "text/restructuredtext"
   },
   "source": [
    "Supported plot backends\n",
    "=======================\n",
    "\n",
    "So far we have only used the default backend library to create the plots, namely the popular |matplotlib_page|.\n",
    "In order to analyse data sets in an interactive way the |plotly_page| is supported as second backend.\n",
    "The backend can be readily changed via the :attr:`backend <aim2dat.plots.BandStructurePlot.backend>` property:\n",
    "\n",
    ".. |matplotlib_page| raw:: html\n",
    "\n",
    "   <a href=\"https://matplotlib.org/\" target=\"_blank\">matplotlib package</a>\n",
    "   \n",
    ".. |plotly_page| raw:: html\n",
    "\n",
    "   <a href=\"https://plotly.com/python/\" target=\"_blank\">plotly package</a>"
   ]
  },
  {
   "cell_type": "code",
   "execution_count": null,
   "id": "667bbeb8",
   "metadata": {},
   "outputs": [],
   "source": [
    "import plotly.io as pio\n",
    "pio.renderers.default = \"sphinx_gallery\"\n",
    "\n",
    "plot.ratio = (6.3, 6.3)\n",
    "plot.backend = \"plotly\"\n",
    "plot.plot(\"test\")"
   ]
  },
  {
   "cell_type": "raw",
   "id": "273b5dcc",
   "metadata": {
    "raw_mimetype": "text/restructuredtext"
   },
   "source": [
    "List of all class properties\n",
    "============================\n",
    "\n",
    ".. note::\n",
    "\n",
    "   Links to properties and functions are given for the :class:`SimplePlot <aim2dat.plots.SimplePlot>` class but are available for all other plot classes as well.\n",
    "\n",
    "\n",
    "The following properties are implemented for each class, quite a few of the property names are based on the matplotlib user interface:\n",
    "\n",
    ".. md-tab-set::\n",
    "\n",
    "\n",
    "    .. md-tab-item:: General Properties\n",
    "\n",
    "        .. list-table::\n",
    "           :width: 100%\n",
    "           :widths: 40 60\n",
    "           :header-rows: 1\n",
    "\n",
    "           * - Property\n",
    "             - Description\n",
    "           * - :attr:`data_labels <aim2dat.plots.SimplePlot.data_labels>`\n",
    "             - List of all data labels.\n",
    "           * - :attr:`backend <aim2dat.plots.SimplePlot.backend>`\n",
    "             - The backend library used to create the plot.\n",
    "           * - :attr:`style_sheet <aim2dat.plots.SimplePlot.style_sheet>`\n",
    "             - Custom matplotlib stylesheet.\n",
    "           * - :attr:`ratio <aim2dat.plots.SimplePlot.ratio>`\n",
    "             - Width-height ratio of the plot.\n",
    "           * - :attr:`equal_aspect_ratio <aim2dat.plots.SimplePlot.equal_aspect_ratio>`\n",
    "             - Whether the plot should have equal aspect ratio.\n",
    "           * - :attr:`store_path <aim2dat.plots.SimplePlot.store_path>`\n",
    "             - Path where the plot is stored.\n",
    "           * - :attr:`store_plot <aim2dat.plots.SimplePlot.store_plot>`\n",
    "             - Whether to store the plot or not.\n",
    "           * - :attr:`show_plot <aim2dat.plots.SimplePlot.show_plot>`\n",
    "             - Whether to show the plot.\n",
    "           * - :attr:`show_legend <aim2dat.plots.SimplePlot.show_legend>`\n",
    "             - Whether to show the legend in the plot.\n",
    "           * - :attr:`show_grid <aim2dat.plots.SimplePlot.show_grid>`\n",
    "             - Whether to show a grid in the plot.\n",
    "           * - :attr:`show_colorbar <aim2dat.plots.SimplePlot.show_colorbar>`\n",
    "             - Whether to show colorbar in the plot (not supported by all plots).\n",
    "           * - :attr:`x_label <aim2dat.plots.SimplePlot.x_label>`\n",
    "             - Label of the x-axis.\n",
    "           * - :attr:`y_label <aim2dat.plots.SimplePlot.y_label>`\n",
    "             - Label of the y-axis.\n",
    "           * - :attr:`x_range <aim2dat.plots.SimplePlot.x_range>`\n",
    "             - Range of the x-axis.\n",
    "           * - :attr:`y_range <aim2dat.plots.SimplePlot.y_range>`\n",
    "             - Range of the y-axis.\n",
    "             \n",
    "    .. md-tab-item:: Legend Properties\n",
    "\n",
    "        .. list-table::\n",
    "           :width: 100%\n",
    "           :widths: 40 60\n",
    "           :header-rows: 1\n",
    "           \n",
    "           * - Property\n",
    "             - Description\n",
    "           * - :attr:`legend_loc <aim2dat.plots.SimplePlot.legend_loc>`\n",
    "             - Location of the legend in the plot.\n",
    "           * - :attr:`legend_bbox_to_anchor <aim2dat.plots.SimplePlot.legend_bbox_to_anchor>`\n",
    "             - Shift between box and anchor.\n",
    "           * - :attr:`legend_ncol <aim2dat.plots.SimplePlot.legend_ncol>`\n",
    "             - Columns of the legend.\n",
    "           * - :attr:`legend_sort_entries <aim2dat.plots.SimplePlot.legend_sort_entries>`\n",
    "             - Sort entries of the legend.\n",
    "             \n",
    "    .. md-tab-item:: Customization Properties\n",
    "\n",
    "        .. list-table::\n",
    "           :width: 100%\n",
    "           :widths: 40 60\n",
    "           :header-rows: 1\n",
    "           \n",
    "           * - Property\n",
    "             - Description           \n",
    "           * - :attr:`custom_colors <aim2dat.plots.SimplePlot.custom_colors>`\n",
    "             - Colors used in the plot.\n",
    "           * - :attr:`custom_linestyles <aim2dat.plots.SimplePlot.custom_linestyles>`\n",
    "             - Line styles used in the plot.\n",
    "           * - :attr:`custom_linewidths <aim2dat.plots.SimplePlot.custom_linewidths>`\n",
    "             - Line widths used in the plot.\n",
    "           * - :attr:`custom_markers <aim2dat.plots.SimplePlot.custom_markers>`\n",
    "             - Marker types used in the plot.\n",
    "           * - :attr:`custom_hatch <aim2dat.plots.SimplePlot.custom_hatch>`\n",
    "             - Hatch types used in the plot.\n",
    "           * - :attr:`custom_alpha <aim2dat.plots.SimplePlot.custom_alpha>`\n",
    "             - Alpha values controlling the opacity of plot elements.\n",
    "           * - :attr:`custom_xticks <aim2dat.plots.SimplePlot.custom_xticks>`\n",
    "             - List of values to set ticks on the x-axis.\n",
    "           * - :attr:`custom_yticks <aim2dat.plots.SimplePlot.custom_yticks>`\n",
    "             - List of values to set ticks on the y-axis.\n",
    "           * - :attr:`custom_xticklabels <aim2dat.plots.SimplePlot.custom_xticklabels>`\n",
    "             - List of labels for the ticks on the x-axis.\n",
    "           * - :attr:`custom_yticklabels <aim2dat.plots.SimplePlot.custom_yticklabels>`\n",
    "             - List of labels for the ticks on the y-axis.\n",
    "\n",
    "    .. md-tab-item:: Subplot Properties\n",
    "\n",
    "        .. list-table::\n",
    "           :width: 100%\n",
    "           :widths: 40 60\n",
    "           :header-rows: 1\n",
    "           \n",
    "           * - Property\n",
    "             - Description           \n",
    "           * - :attr:`subplot_sup_title <aim2dat.plots.SimplePlot.subplot_sup_title>`\n",
    "             - Title of the whole figure.\n",
    "           * - :attr:`subplot_sup_x_label <aim2dat.plots.SimplePlot.subplot_sup_x_label>`\n",
    "             - x-label of the whole figure.\n",
    "           * - :attr:`subplot_sup_y_label <aim2dat.plots.SimplePlot.subplot_sup_y_label>`\n",
    "             - y-label of the whole figure.\n",
    "           * - :attr:`subplot_nrows <aim2dat.plots.SimplePlot.subplot_nrows>`\n",
    "             - Number of rows.\n",
    "           * - :attr:`subplot_ncols <aim2dat.plots.SimplePlot.subplot_ncols>`\n",
    "             - Number of columns.\n",
    "           * - :attr:`subplot_gridspec <aim2dat.plots.SimplePlot.subplot_gridspec>`\n",
    "             - Grid spec values.\n",
    "           * - :attr:`subplot_hspace <aim2dat.plots.SimplePlot.subplot_hspace>`\n",
    "             - Vertical spacing between the subplots.\n",
    "           * - :attr:`subplot_wspace <aim2dat.plots.SimplePlot.subplot_wspace>`\n",
    "             - Horizontal spacing between the subplots.\n",
    "           * - :attr:`subplot_adjust <aim2dat.plots.SimplePlot.subplot_adjust>`\n",
    "             - Keyword arguments for the matplotlib ``subplots_adjust`` function.\n",
    "           * - :attr:`subplot_share_legend <aim2dat.plots.SimplePlot.subplot_share_legend>`\n",
    "             - Merge legend items of all subplots.\n",
    "           * - :attr:`subplot_share_colorbar <aim2dat.plots.SimplePlot.subplot_share_colorbar>`\n",
    "             - Use one common colorbar for all subplots.\n",
    "           * - :attr:`subplot_sharex <aim2dat.plots.SimplePlot.subplot_sharex>`\n",
    "             - Share the x-axis of subplots located in the same column.\n",
    "           * - :attr:`subplot_sharey <aim2dat.plots.SimplePlot.subplot_sharey>`\n",
    "             - Share the y-axis of subplots located in the same row.\n",
    "           * - :attr:`subplot_tight_layout <aim2dat.plots.SimplePlot.subplot_tight_layout>`\n",
    "             - Whether to use tight layout of the plot.\n",
    "           * - :attr:`subplot_align_ylabels <aim2dat.plots.SimplePlot.subplot_align_ylabels>`\n",
    "             - Whether to align the y labels of the subplots."
   ]
  }
 ],
 "metadata": {
  "celltoolbar": "Raw Cell Format",
  "kernelspec": {
   "display_name": "Python 3 (ipykernel)",
   "language": "python",
   "name": "python3"
  },
  "language_info": {
   "codemirror_mode": {
    "name": "ipython",
    "version": 3
   },
   "file_extension": ".py",
   "mimetype": "text/x-python",
   "name": "python",
   "nbconvert_exporter": "python",
   "pygments_lexer": "ipython3",
   "version": "3.11.10"
  }
 },
 "nbformat": 4,
 "nbformat_minor": 5
}
