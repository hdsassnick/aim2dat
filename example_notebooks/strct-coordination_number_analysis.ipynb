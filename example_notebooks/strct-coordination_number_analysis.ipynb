{
 "cells": [
  {
   "cell_type": "markdown",
   "id": "5a3e8887",
   "metadata": {},
   "source": [
    "# Calculating the coordination numbers for different atomic sites\n",
    "\n",
    "The ``Structure`` class of the `strct` sub-package can be used to determine the coordination number of periodic and non-periodic structures using different methods, all of them described here: <a href=\"https://pubs.acs.org/doi/10.1021/acs.inorgchem.0c02996\" target=\"_blank\">doi:10.1021/acs.inorgchem.0c02996</a>.\n",
    "\n",
    "First, we create an object of the class and import a structure:"
   ]
  },
  {
   "cell_type": "code",
   "execution_count": null,
   "id": "9a456c31",
   "metadata": {},
   "outputs": [],
   "source": [
    "from aim2dat.strct import Structure\n",
    "\n",
    "strct = Structure.from_file(\"files/strct_coord_num/Na2SbCs.xsf\", label=\"Na2SbCs\")"
   ]
  },
  {
   "cell_type": "markdown",
   "id": "05964692",
   "metadata": {},
   "source": [
    "Several methods are implemented to calculate the coordination numbers:\n",
    "\n",
    "* `\"minimum_distance\"`: The distance of the closest atom is taken as reference. All atoms inbetween that distance and a relative margin are considered as neighbours of the atomic site. The relative margin can be set via the attribute `minimum_distance_delta`, the default value is `0.1`.\n",
    "* `\"n_nearest_neighbours\"` defines the number of coordianted sites by the *n* nearest neighbours via the `n_nearest_neighbours` parameter.\n",
    "* `\"atomic_radius\"` takes the sum of radii for each of the corresponding elements and consideres a site as neighbouring if the distance is smaller than the sum. The radius type can be specified via the `atomic_radius` parameter. The parameter `atomic_radius_delta` includes a relative tolerance. \n",
    "* `\"econ\"`: The effective coordination number algorithm is an iterative method. Two parameters can be changed to tweak the method: `econ_tolerance` and `econ_conv_threshold` with the default values of `0.5` and `0.001`, respectively.\n",
    "* `\"voronoi\"`: This method implements various approaches based on a Voronoi tessellation. To obtain, e.g., the method developed by O'Keeffe one can set `voronoi_weight_type` to `rel_solid_angle` and the `voronoi_weight_threshold` to a float number between 0.0 and 1.0."
   ]
  },
  {
   "cell_type": "markdown",
   "id": "e10652b9",
   "metadata": {},
   "source": [
    "The coordination numbers for each site can then be readily calculated using the methods `calculate_coordination`:"
   ]
  },
  {
   "cell_type": "code",
   "execution_count": null,
   "id": "6ebed013",
   "metadata": {},
   "outputs": [],
   "source": [
    "strct.calc_coordination()"
   ]
  },
  {
   "cell_type": "markdown",
   "id": "247f4df2",
   "metadata": {},
   "source": [
    "Based on the coordination numbers and distances two atomic sites can be compared using the ``StructureOperations`` class: "
   ]
  },
  {
   "cell_type": "code",
   "execution_count": null,
   "id": "b3f9ce02",
   "metadata": {},
   "outputs": [],
   "source": [
    "from aim2dat.strct import StructureCollection, StructureOperations\n",
    "\n",
    "strct_op = StructureOperations(StructureCollection([strct]))\n",
    "strct_op.compare_sites_via_coordination(\"Na2SbCs\", \"Na2SbCs\", 1, 2)"
   ]
  }
 ],
 "metadata": {
  "kernelspec": {
   "display_name": "Python 3 (ipykernel)",
   "language": "python",
   "name": "python3"
  },
  "language_info": {
   "codemirror_mode": {
    "name": "ipython",
    "version": 3
   },
   "file_extension": ".py",
   "mimetype": "text/x-python",
   "name": "python",
   "nbconvert_exporter": "python",
   "pygments_lexer": "ipython3",
   "version": "3.11.12"
  }
 },
 "nbformat": 4,
 "nbformat_minor": 5
}
