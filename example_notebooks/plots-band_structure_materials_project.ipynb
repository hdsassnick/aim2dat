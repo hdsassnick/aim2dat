{
 "cells": [
  {
   "cell_type": "markdown",
   "id": "seven-anxiety",
   "metadata": {},
   "source": [
    "# Plotting the band structure and projected density of states (pDOS) from Materials Project\n",
    "\n",
    "_A more detailed description of the different features is given in the example [Plotting the band structure and projected density of states (pDOS) from Quantum ESPRESSO output-files](plots-band_structure_and_pdos_qe.ipynb)._\n",
    "\n",
    "This notebook shows how to use the ``StructureImporter`` and ``BandStructurePlot`` class of the library to plot a band structure from materials project. First, we import data from the Materials Project online database:"
   ]
  },
  {
   "cell_type": "code",
   "execution_count": null,
   "id": "equipped-magic",
   "metadata": {},
   "outputs": [],
   "source": [
    "import os\n",
    "from aim2dat.strct import StructureImporter\n",
    "\n",
    "strct_imp = StructureImporter()\n",
    "structure = strct_imp.append_from_mp_by_id(\n",
    "    \"mp-573763\",\n",
    "    os.environ[\"MP_OPENAPI_KEY\"],\n",
    "    property_data=[\"el_band_structure\"],\n",
    ")\n",
    "band_structure = structure.extras[\"el_band_structure\"]"
   ]
  },
  {
   "cell_type": "markdown",
   "id": "engaged-jaguar",
   "metadata": {},
   "source": [
    "The retrieved band-structure is a dictionary storing the k-points and the energies of the bands:"
   ]
  },
  {
   "cell_type": "code",
   "execution_count": null,
   "id": "superb-prison",
   "metadata": {},
   "outputs": [],
   "source": [
    "print(band_structure.keys())\n",
    "print(band_structure[\"path_labels\"])"
   ]
  },
  {
   "cell_type": "markdown",
   "id": "presidential-remove",
   "metadata": {},
   "source": [
    "Now we can import the band structure class and set-up a plot:"
   ]
  },
  {
   "cell_type": "code",
   "execution_count": null,
   "id": "hollow-shoot",
   "metadata": {},
   "outputs": [],
   "source": [
    "from aim2dat.plots import BandStructurePlot\n",
    "\n",
    "bands_plot = BandStructurePlot()\n",
    "bands_plot.y_range = [-5, 8]\n",
    "bands_plot.show_plot = True\n",
    "bands_plot.ratio = (12, 7)"
   ]
  },
  {
   "cell_type": "markdown",
   "id": "functioning-girlfriend",
   "metadata": {},
   "source": [
    "We hand the data from the importer-module to the `BandStructurePlot` object:"
   ]
  },
  {
   "cell_type": "code",
   "execution_count": null,
   "id": "alone-escape",
   "metadata": {},
   "outputs": [],
   "source": [
    "bands_plot.import_band_structure(data_label=\"test\", **band_structure)"
   ]
  },
  {
   "cell_type": "markdown",
   "id": "choice-operator",
   "metadata": {},
   "source": [
    "And finally, we plot the band structure:"
   ]
  },
  {
   "cell_type": "code",
   "execution_count": null,
   "id": "funky-miniature",
   "metadata": {},
   "outputs": [],
   "source": [
    "plot = bands_plot.plot(\"test\")"
   ]
  }
 ],
 "metadata": {
  "kernelspec": {
   "display_name": "Python 3 (ipykernel)",
   "language": "python",
   "name": "python3"
  },
  "language_info": {
   "codemirror_mode": {
    "name": "ipython",
    "version": 3
   },
   "file_extension": ".py",
   "mimetype": "text/x-python",
   "name": "python",
   "nbconvert_exporter": "python",
   "pygments_lexer": "ipython3",
   "version": "3.11.12"
  }
 },
 "nbformat": 4,
 "nbformat_minor": 5
}
