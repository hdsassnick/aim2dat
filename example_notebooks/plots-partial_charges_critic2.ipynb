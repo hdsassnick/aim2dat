{
 "cells": [
  {
   "cell_type": "markdown",
   "id": "0675060e",
   "metadata": {},
   "source": [
    "# Plotting atomic partial charges from Critic2 output-files"
   ]
  },
  {
   "cell_type": "markdown",
   "id": "6449a0fe",
   "metadata": {},
   "source": [
    "## Reading the output files\n",
    "\n",
    "To plot the partial charges from the Critic2 output the function ``read_critic2_stdout`` from the ``io`` sub-package can be used to parse the elements and populations from the output file:"
   ]
  },
  {
   "cell_type": "code",
   "execution_count": null,
   "id": "85c43984",
   "metadata": {},
   "outputs": [],
   "source": [
    "from aim2dat.io import read_critic2_stdout"
   ]
  },
  {
   "cell_type": "markdown",
   "id": "d3e12acb",
   "metadata": {},
   "source": [
    "Personally, I like to define a dictionary which contains the data:"
   ]
  },
  {
   "cell_type": "code",
   "execution_count": null,
   "id": "69accf9e",
   "metadata": {},
   "outputs": [],
   "source": [
    "partial_data = {}\n",
    "partial_data[\"ZIF_8_Cl_struc\"] = read_critic2_stdout(\"./files/pc_critic2/ZIF-8-Cl-struc-critic2.out\")[\n",
    "    \"partial_charges\"\n",
    "]\n",
    "partial_data[\"ZIF_8_Cl_comp\"] = read_critic2_stdout(\"./files/pc_critic2/ZIF-8-Cl-comp-critic2.out\")[\n",
    "    \"partial_charges\"\n",
    "]\n",
    "partial_data[\"ZIF_8_Cl_imi\"] = read_critic2_stdout(\"./files/pc_critic2/ZIF-8-Cl-imi-critic2.out\")[\n",
    "    \"partial_charges\"\n",
    "]"
   ]
  },
  {
   "cell_type": "code",
   "execution_count": null,
   "id": "dcfe30bd",
   "metadata": {},
   "outputs": [],
   "source": [
    "partial_data[\"ZIF_8_Br_struc\"] = read_critic2_stdout(\"./files/pc_critic2/ZIF-8-Br-struc-critic2.out\")[\n",
    "    \"partial_charges\"\n",
    "]\n",
    "partial_data[\"ZIF_8_Br_comp\"] = read_critic2_stdout(\"./files/pc_critic2/ZIF-8-Br-comp-critic2.out\")[\n",
    "    \"partial_charges\"\n",
    "]\n",
    "partial_data[\"ZIF_8_Br_imi\"] = read_critic2_stdout(\"./files/pc_critic2/ZIF-8-Br-imi-critic2.out\")[\n",
    "    \"partial_charges\"\n",
    "]"
   ]
  },
  {
   "cell_type": "markdown",
   "id": "8f70de3a",
   "metadata": {},
   "source": [
    "The output of the function is a list containing dictionaries of `elements` and their `population`"
   ]
  },
  {
   "cell_type": "code",
   "execution_count": null,
   "id": "8f78ab64",
   "metadata": {},
   "outputs": [],
   "source": [
    "partial_data[\"ZIF_8_Br_imi\"]"
   ]
  },
  {
   "cell_type": "markdown",
   "id": "806046ce",
   "metadata": {},
   "source": [
    "Optional:\n",
    "\n",
    "The `elements` of the example data contain different symmetries, and thus the calculated `charge` can be arranged in a favorable manner. Therefore, a dictonary of `elements` combined with a list of indicies can be defined:\n",
    "- `elements` can be split in for example {\"H1\":[6,7], \"H2\":[8]}\n",
    "- `elements` can be combined {\"conjugated_network\": [[0],[2,3],[6,7],[8]]}. The mean of each element will be calculated and summed"
   ]
  },
  {
   "cell_type": "code",
   "execution_count": null,
   "id": "ade9ad3c",
   "metadata": {},
   "outputs": [],
   "source": [
    "index_struc = {\n",
    "    \"X\": [42, 43, 44, 45, 46, 47, 48, 49, 50, 51, 52, 53],\n",
    "    \"Zn\": [0, 1, 2, 3, 4, 5],\n",
    "    \"N\": [\n",
    "        54,\n",
    "        55,\n",
    "        56,\n",
    "        57,\n",
    "        58,\n",
    "        59,\n",
    "        61,\n",
    "        62,\n",
    "        63,\n",
    "        66,\n",
    "        67,\n",
    "        68,\n",
    "        69,\n",
    "        70,\n",
    "        71,\n",
    "        72,\n",
    "        76,\n",
    "        77,\n",
    "        60,\n",
    "        64,\n",
    "        65,\n",
    "        73,\n",
    "        74,\n",
    "        75,\n",
    "    ],\n",
    "    \"conjugated_network\": [\n",
    "        [6, 7, 8, 9, 10, 11, 12, 13, 14, 15, 16, 17],\n",
    "        [\n",
    "            18,\n",
    "            19,\n",
    "            20,\n",
    "            21,\n",
    "            22,\n",
    "            23,\n",
    "            24,\n",
    "            25,\n",
    "            26,\n",
    "            27,\n",
    "            28,\n",
    "            29,\n",
    "            30,\n",
    "            31,\n",
    "            32,\n",
    "            33,\n",
    "            34,\n",
    "            35,\n",
    "            36,\n",
    "            37,\n",
    "            38,\n",
    "            39,\n",
    "            40,\n",
    "            41,\n",
    "        ],\n",
    "        [\n",
    "            78,\n",
    "            79,\n",
    "            80,\n",
    "            81,\n",
    "            82,\n",
    "            83,\n",
    "            84,\n",
    "            85,\n",
    "            86,\n",
    "            87,\n",
    "            88,\n",
    "            89,\n",
    "            90,\n",
    "            91,\n",
    "            92,\n",
    "            93,\n",
    "            94,\n",
    "            95,\n",
    "            96,\n",
    "            97,\n",
    "            98,\n",
    "            99,\n",
    "            100,\n",
    "            101,\n",
    "        ],\n",
    "    ],\n",
    "}\n",
    "index_comp = {\n",
    "    \"Zn\": [0],\n",
    "    \"X\": [9, 25, 10, 27],\n",
    "    \"N\": [3, 6, 4, 5, 17, 18, 19, 26],\n",
    "    \"conjugated_network\": [\n",
    "        [1, 2, 13, 14, 22, 23, 24, 29],\n",
    "        [11, 20, 12, 21],\n",
    "        [7, 8, 15, 16, 28, 30, 31, 32],\n",
    "        [33, 34],\n",
    "    ],\n",
    "}\n",
    "index_imi = {\"conjugated_network\": [[0], [2, 3], [6, 7], [8]], \"N\": [1, 4], \"X\": [5]}"
   ]
  },
  {
   "cell_type": "markdown",
   "id": "005e6d71",
   "metadata": {},
   "source": [
    "Since the `population` depends on the number of valence electrons, we need to supply this information. Each element needs to be defined:"
   ]
  },
  {
   "cell_type": "code",
   "execution_count": null,
   "id": "68cd4220",
   "metadata": {},
   "outputs": [],
   "source": [
    "valence_electrons = {\"Zn\": 12, \"H\": 1, \"C\": 4, \"N\": 5, \"Br\": 7, \"Cl\": 7}"
   ]
  },
  {
   "cell_type": "markdown",
   "id": "eae95ee8",
   "metadata": {},
   "source": [
    "## Initialize the plot class\n",
    "\n",
    "Now the ``PartialChargesPlot`` class in the ``plots`` sub-package is used to visualize the partial charges.  Additional attributes can be set to show and store the plot:"
   ]
  },
  {
   "cell_type": "code",
   "execution_count": null,
   "id": "6ea188eb",
   "metadata": {},
   "outputs": [],
   "source": [
    "from aim2dat.plots.partial_charges import PartialChargesPlot\n",
    "\n",
    "pc_plot = PartialChargesPlot()\n",
    "pc_plot.store_path = \".\"\n",
    "pc_plot.store_plot = False\n",
    "pc_plot.show_plot = True"
   ]
  },
  {
   "cell_type": "markdown",
   "id": "09d32a7a",
   "metadata": {},
   "source": [
    "## Importing data into class\n",
    "The partial charge is imported with the ``import_partial_charges`` function. All data sets have its own `data_label` to distinguish them. Additionally, these parameters need to be set:\n",
    "- `plot_label`: groups certain datasets into on class\n",
    "- `x_label`: distinguishes the datasets into different groups e.g. different functionalization or structures\n",
    "- `custom_kind_dict`: **optional** if not defined, the mean of each element will be calculated"
   ]
  },
  {
   "cell_type": "code",
   "execution_count": null,
   "id": "9f14a527",
   "metadata": {},
   "outputs": [],
   "source": [
    "pc_plot.import_partial_charges(\n",
    "    data_label=\"ZIF_8_Cl_struc\",\n",
    "    partial_charges=partial_data[\"ZIF_8_Cl_struc\"],\n",
    "    valence_electrons=valence_electrons,\n",
    "    plot_label=\"Cl\",\n",
    "    x_label=\"structure\",\n",
    "    custom_kind_dict=index_struc,\n",
    ")\n",
    "pc_plot.import_partial_charges(\n",
    "    data_label=\"ZIF_8_Cl_comp\",\n",
    "    partial_charges=partial_data[\"ZIF_8_Cl_comp\"],\n",
    "    valence_electrons=valence_electrons,\n",
    "    plot_label=\"Cl\",\n",
    "    x_label=\"complex\",\n",
    "    custom_kind_dict=index_comp,\n",
    ")\n",
    "pc_plot.import_partial_charges(\n",
    "    data_label=\"ZIF_8_Cl_imi\",\n",
    "    partial_charges=partial_data[\"ZIF_8_Cl_imi\"],\n",
    "    valence_electrons=valence_electrons,\n",
    "    plot_label=\"Cl\",\n",
    "    x_label=\"imidazole\",\n",
    "    custom_kind_dict=index_imi,\n",
    ")"
   ]
  },
  {
   "cell_type": "code",
   "execution_count": null,
   "id": "180cb9e6",
   "metadata": {},
   "outputs": [],
   "source": [
    "pc_plot.import_partial_charges(\n",
    "    data_label=\"ZIF_8_Br_struc\",\n",
    "    partial_charges=partial_data[\"ZIF_8_Br_struc\"],\n",
    "    valence_electrons=valence_electrons,\n",
    "    plot_label=\"Br\",\n",
    "    x_label=\"structure\",\n",
    "    custom_kind_dict=index_struc,\n",
    ")\n",
    "pc_plot.import_partial_charges(\n",
    "    data_label=\"ZIF_8_Br_comp\",\n",
    "    partial_charges=partial_data[\"ZIF_8_Br_comp\"],\n",
    "    valence_electrons=valence_electrons,\n",
    "    plot_label=\"Br\",\n",
    "    x_label=\"complex\",\n",
    "    custom_kind_dict=index_comp,\n",
    ")\n",
    "pc_plot.import_partial_charges(\n",
    "    data_label=\"ZIF_8_Br_imi\",\n",
    "    partial_charges=partial_data[\"ZIF_8_Br_imi\"],\n",
    "    valence_electrons=valence_electrons,\n",
    "    plot_label=\"Br\",\n",
    "    x_label=\"imidazole\",\n",
    "    custom_kind_dict=index_imi,\n",
    ")"
   ]
  },
  {
   "cell_type": "markdown",
   "id": "221e91a0",
   "metadata": {},
   "source": [
    "## Plotting data\n",
    "\n",
    "Data sets chosen by their `data_label` are plotted with the function ``plot``."
   ]
  },
  {
   "cell_type": "code",
   "execution_count": null,
   "id": "b82c52c4",
   "metadata": {},
   "outputs": [],
   "source": [
    "plot = pc_plot.plot(\n",
    "    data_labels=[\n",
    "        \"ZIF_8_Cl_struc\",\n",
    "        \"ZIF_8_Cl_comp\",\n",
    "        \"ZIF_8_Cl_imi\",\n",
    "        \"ZIF_8_Br_struc\",\n",
    "        \"ZIF_8_Br_comp\",\n",
    "        \"ZIF_8_Br_imi\",\n",
    "    ]\n",
    ")"
   ]
  },
  {
   "cell_type": "markdown",
   "id": "14f19d23",
   "metadata": {},
   "source": [
    "The plot typ can be set via the attribute ``pc_plot_type``. The options are `\"scatter\"` or `\"bar\"`:"
   ]
  },
  {
   "cell_type": "code",
   "execution_count": null,
   "id": "3fa1d2c4",
   "metadata": {},
   "outputs": [],
   "source": [
    "pc_plot.pc_plot_type = \"bar\"\n",
    "plot = pc_plot.plot(\n",
    "    data_labels=[\n",
    "        \"ZIF_8_Cl_struc\",\n",
    "        \"ZIF_8_Cl_comp\",\n",
    "        \"ZIF_8_Cl_imi\",\n",
    "        \"ZIF_8_Br_struc\",\n",
    "        \"ZIF_8_Br_comp\",\n",
    "        \"ZIF_8_Br_imi\",\n",
    "    ]\n",
    ")"
   ]
  },
  {
   "cell_type": "markdown",
   "id": "ad81c0da",
   "metadata": {},
   "source": [
    "- ``ratio``: modifies the size of the figure in inch\n",
    "- ``subplot_tight_layout``: adjusts the `hspace` and `wspace` automatically\n",
    "- ``subplot_ncols`` and ``subplot_nrows``: shows multiple plots with the different `elements`"
   ]
  },
  {
   "cell_type": "code",
   "execution_count": null,
   "id": "0c7e0dbd",
   "metadata": {},
   "outputs": [],
   "source": [
    "pc_plot.pc_plot_type = \"scatter\"\n",
    "pc_plot.ratio = 24, 4\n",
    "pc_plot.subplot_tight_layout = True\n",
    "pc_plot.subplot_ncols, pc_plot.subplot_nrows = 4, 1\n",
    "plot = pc_plot.plot(\n",
    "    data_labels=[\n",
    "        \"ZIF_8_Cl_struc\",\n",
    "        \"ZIF_8_Cl_comp\",\n",
    "        \"ZIF_8_Cl_imi\",\n",
    "        \"ZIF_8_Br_struc\",\n",
    "        \"ZIF_8_Br_comp\",\n",
    "        \"ZIF_8_Br_imi\",\n",
    "    ]\n",
    ")"
   ]
  },
  {
   "cell_type": "markdown",
   "id": "8c7e7c76",
   "metadata": {},
   "source": [
    "- ``pc_plot_order``: arranges the `elements` in given order for subplots\n",
    "- ``show_legend``: adds a legend. Each subplot can be set individually but if `(True, False)` is set, first plot is set to `True`, rest is set to `False`\n",
    "- `plot_title`: adds a title to each subplot"
   ]
  },
  {
   "cell_type": "code",
   "execution_count": null,
   "id": "dbdce699",
   "metadata": {
    "scrolled": true
   },
   "outputs": [],
   "source": [
    "pc_plot.pc_plot_type = \"bar\"\n",
    "pc_plot.show_legend = (True, False)\n",
    "pc_plot.ratio = 24, 4\n",
    "pc_plot.subplot_tight_layout = True\n",
    "pc_plot.subplot_ncols, pc_plot.subplot_nrows = 4, 1\n",
    "pc_plot.pc_plot_order = [\"Zn\", \"N\", \"X\", \"conjugated_network\"]\n",
    "plot = pc_plot.plot(\n",
    "    data_labels=[\n",
    "        \"ZIF_8_Cl_struc\",\n",
    "        \"ZIF_8_Cl_comp\",\n",
    "        \"ZIF_8_Cl_imi\",\n",
    "        \"ZIF_8_Br_struc\",\n",
    "        \"ZIF_8_Br_comp\",\n",
    "        \"ZIF_8_Br_imi\",\n",
    "    ],\n",
    "    plot_title=[\"Zn\", \"N\", \"X\", \"conjugated network\"],\n",
    ")"
   ]
  }
 ],
 "metadata": {
  "kernelspec": {
   "display_name": "Python 3 (ipykernel)",
   "language": "python",
   "name": "python3"
  },
  "language_info": {
   "codemirror_mode": {
    "name": "ipython",
    "version": 3
   },
   "file_extension": ".py",
   "mimetype": "text/x-python",
   "name": "python",
   "nbconvert_exporter": "python",
   "pygments_lexer": "ipython3",
   "version": "3.10.13"
  }
 },
 "nbformat": 4,
 "nbformat_minor": 5
}
