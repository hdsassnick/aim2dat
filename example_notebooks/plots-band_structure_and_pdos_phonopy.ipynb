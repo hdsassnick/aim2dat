{
 "cells": [
  {
   "cell_type": "markdown",
   "id": "3b339465",
   "metadata": {},
   "source": [
    "# Plotting the band structure, projected density of states (pDOS) and thermal properties from phonopy output-files\n",
    "\n",
    "_A more detailed description of the different features is given in the example [Plotting the band structure and projected density of states (pDOS) from Quantum ESPRESSO output-files](plots-band_structure_and_pdos_qe.ipynb)._\n"
   ]
  },
  {
   "cell_type": "markdown",
   "id": "8f8f7d0b",
   "metadata": {},
   "source": [
    "## The band structure plot\n",
    "\n",
    "To plot the band structure from the phonopy output files the function `read_band_structure` from the `io` sub-package can be used to extract the eigenvalues along the specified path:"
   ]
  },
  {
   "cell_type": "code",
   "execution_count": null,
   "id": "1614f922",
   "metadata": {},
   "outputs": [],
   "source": [
    "from aim2dat.io.phonopy import read_band_structure\n",
    "\n",
    "band_structure, ref_cell = read_band_structure(\n",
    "    \"files/ph_bands_phonopy/phonopy_disp.yaml\",\n",
    "    [[[0.5, 0, 0.5], [0, 0, 0], [0.5, 0.5, 0.5], [0.5, 0.25, 0.75]]],\n",
    "    51,\n",
    "    force_sets_file_name=\"files/ph_bands_phonopy/FORCE_SETS\",\n",
    "    path_labels=[\"X\", \"Gamma\", \"L\", \"W\"],\n",
    ")"
   ]
  },
  {
   "cell_type": "markdown",
   "id": "882cd695",
   "metadata": {},
   "source": [
    "Now the BandStructure class in the plots sub-package is used to visualize the band structure.\n",
    "For non-cubic systems the unit-cell needs to be given as nested list or numpy-array to scale the k-points accordingly using the function `set_reference_cell()`.\n",
    "Additional attributes can be set to show and store the plot:"
   ]
  },
  {
   "cell_type": "code",
   "execution_count": null,
   "id": "cc579235",
   "metadata": {},
   "outputs": [],
   "source": [
    "from aim2dat.plots.band_structure_dos import BandStructurePlot\n",
    "\n",
    "bands_plot = BandStructurePlot()\n",
    "bands_plot.y_label = \"Frequency in THz\"\n",
    "bands_plot.show_plot = True\n",
    "bands_plot.set_reference_cell(ref_cell)"
   ]
  },
  {
   "cell_type": "markdown",
   "id": "0fa295ee",
   "metadata": {},
   "source": [
    "The band structure can now be loaded into the object and plotted:"
   ]
  },
  {
   "cell_type": "code",
   "execution_count": null,
   "id": "0e9d7917",
   "metadata": {},
   "outputs": [],
   "source": [
    "bands_plot.import_band_structure(data_label=\"test_band_structure\", **band_structure)"
   ]
  },
  {
   "cell_type": "code",
   "execution_count": null,
   "id": "a998e4b9",
   "metadata": {},
   "outputs": [],
   "source": [
    "plot = bands_plot.plot(\"test_band_structure\", plot_title=\"Bandstructure\")"
   ]
  },
  {
   "cell_type": "markdown",
   "id": "9b53c98e",
   "metadata": {},
   "source": [
    "## The projected density of states plot\n",
    "\n",
    "The procedure to plot the projected density of states is very similar to plotting the band structure. There is a function in the `io` sub-package to parse the projected density of states from the output-files:"
   ]
  },
  {
   "cell_type": "code",
   "execution_count": null,
   "id": "34b2a31f",
   "metadata": {},
   "outputs": [],
   "source": [
    "from aim2dat.io.phonopy import read_atom_proj_density_of_states\n",
    "\n",
    "pdos = read_atom_proj_density_of_states(\n",
    "    \"files/ph_bands_phonopy/phonopy_disp.yaml\",\n",
    "    force_sets_file_name=\"files/ph_bands_phonopy/FORCE_SETS\",\n",
    "    mesh=50,\n",
    ")"
   ]
  },
  {
   "cell_type": "code",
   "execution_count": null,
   "id": "5046e281",
   "metadata": {},
   "outputs": [],
   "source": [
    "from aim2dat.plots.band_structure_dos import DOSPlot\n",
    "\n",
    "dos_plot = DOSPlot()\n",
    "dos_plot.y_label = \"DOS in states/THz/cell\"\n",
    "dos_plot.import_projected_dos(\n",
    "    \"test_dos\",\n",
    "    pdos[\"energy\"],\n",
    "    pdos[\"pdos\"],\n",
    "    sum_kinds=True,\n",
    "    sum_principal_qn=True,\n",
    "    sum_magnetic_qn=True,\n",
    ")"
   ]
  },
  {
   "cell_type": "code",
   "execution_count": null,
   "id": "7352a1bc",
   "metadata": {},
   "outputs": [],
   "source": [
    "dos_plot.show_plot = True\n",
    "dos_plot.show_legend = True\n",
    "dos_plot.ratio = (10, 4)\n",
    "plot = dos_plot.plot(\"test_dos\")"
   ]
  },
  {
   "cell_type": "markdown",
   "id": "e2867b81",
   "metadata": {},
   "source": [
    "The total density of states can be included by using the phonopy interface:"
   ]
  },
  {
   "cell_type": "code",
   "execution_count": null,
   "id": "80b4c6a2",
   "metadata": {},
   "outputs": [],
   "source": [
    "from aim2dat.io.phonopy import read_total_density_of_states\n",
    "\n",
    "tdos = read_total_density_of_states(\n",
    "    \"files/ph_bands_phonopy/phonopy_disp.yaml\",\n",
    "    force_sets_file_name=\"files/ph_bands_phonopy/FORCE_SETS\",\n",
    "    mesh=50,\n",
    ")"
   ]
  },
  {
   "cell_type": "code",
   "execution_count": null,
   "id": "0bbb4e73",
   "metadata": {},
   "outputs": [],
   "source": [
    "dos_plot.import_total_dos(\"test_dos\", **tdos)"
   ]
  },
  {
   "cell_type": "code",
   "execution_count": null,
   "id": "7ea68b23",
   "metadata": {},
   "outputs": [],
   "source": [
    "plot = dos_plot.plot(\"test_dos\")"
   ]
  },
  {
   "cell_type": "markdown",
   "id": "7c31fc75",
   "metadata": {},
   "source": [
    "## Band structure + projected density of states plot\n",
    "\n",
    "The two previous plots can also be combined in one figure with the `BandStructureDOSPlot` class:"
   ]
  },
  {
   "cell_type": "code",
   "execution_count": null,
   "id": "73042479",
   "metadata": {},
   "outputs": [],
   "source": [
    "from aim2dat.plots.band_structure_dos import BandStructureDOSPlot\n",
    "\n",
    "bands_dos_plot = BandStructureDOSPlot()\n",
    "bands_dos_plot.x_label = (None, \"DOS in states/THz/cell\")\n",
    "bands_dos_plot.y_label = (\"Frequency (THz)\", None)\n",
    "bands_dos_plot.set_reference_cell(ref_cell)\n",
    "bands_dos_plot.show_plot = True\n",
    "bands_dos_plot.show_legend = True\n",
    "bands_dos_plot.import_band_structure(\"test_band_structure_dos\", **band_structure)\n",
    "bands_dos_plot.import_projected_dos(\n",
    "    \"test_band_structure_dos\",\n",
    "    pdos[\"energy\"],\n",
    "    pdos[\"pdos\"],\n",
    "    sum_kinds=True,\n",
    "    sum_principal_qn=True,\n",
    "    sum_magnetic_qn=True,\n",
    ")\n",
    "bands_dos_plot.import_total_dos(\"test_band_structure_dos\", **tdos)\n",
    "plot = bands_dos_plot.plot(\"test_band_structure_dos\")"
   ]
  }
 ],
 "metadata": {
  "kernelspec": {
   "display_name": "Python 3 (ipykernel)",
   "language": "python",
   "name": "python3"
  },
  "language_info": {
   "codemirror_mode": {
    "name": "ipython",
    "version": 3
   },
   "file_extension": ".py",
   "mimetype": "text/x-python",
   "name": "python",
   "nbconvert_exporter": "python",
   "pygments_lexer": "ipython3",
   "version": "3.11.11"
  }
 },
 "nbformat": 4,
 "nbformat_minor": 5
}
