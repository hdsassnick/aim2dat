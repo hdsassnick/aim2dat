{
 "cells": [
  {
   "cell_type": "markdown",
   "id": "b1c2316f",
   "metadata": {},
   "source": [
    "# Calculating the F-Fingerprint to compare crystal structures\n",
    "\n",
    "The F-Fingerprint was introduced by Oganov and Valle in <a href=\"https://doi.org/10.1063/1.3079326\" target=\"_blank\">doi:10.1063/1.3079326</a> and <a href=\"https://doi.org/10.1107/S0108767310026395\" target=\"_blank\">doi:10.1107/S0108767310026395</a>.\n",
    "The definition is based on the pair-wise partial radial distribution function.\n",
    "\n",
    "First we create two crystals with <a href=\"https://wiki.fysik.dtu.dk/ase/\" target=\"_blank\">ase</a>:"
   ]
  },
  {
   "cell_type": "code",
   "execution_count": null,
   "id": "cb43e68e",
   "metadata": {},
   "outputs": [],
   "source": [
    "from ase.spacegroup import crystal\n",
    "\n",
    "### GaAs\n",
    "a = 4.066 * 2.0\n",
    "GaAs_prim = crystal(\n",
    "    (\"Ga\", \"As\"),\n",
    "    basis=((0.0, 0.0, 0.0), (0.75, 0.75, 0.75)),\n",
    "    spacegroup=216,\n",
    "    cellpar=[a, a, a, 90, 90, 90],\n",
    "    primitive_cell=True,\n",
    ")\n",
    "GaAs_conv = crystal(\n",
    "    (\"Ga\", \"As\"),\n",
    "    basis=((0.0, 0.0, 0.0), (0.75, 0.75, 0.75)),\n",
    "    spacegroup=216,\n",
    "    cellpar=[a, a, a, 90, 90, 90],\n",
    "    primitive_cell=False,\n",
    ")"
   ]
  },
  {
   "cell_type": "markdown",
   "id": "breeding-airline",
   "metadata": {},
   "source": [
    "We have created two times the same materials, but using different unit cells. `GaAs_prim` is the crystal structure with the primitive unit cell and `GaAs_conv` is uses conventional unit cell. We can print the crystal structures to visualize them with e.g. <a href=\"https://jp-minerals.org/vesta/en/\" target=\"_blank\">VESTA</a>:"
   ]
  },
  {
   "cell_type": "code",
   "execution_count": null,
   "id": "secure-partition",
   "metadata": {},
   "outputs": [],
   "source": [
    "from ase.io import write\n",
    "\n",
    "write(\"GaAs_prim.xsf\", GaAs_prim)\n",
    "write(\"GaAs_conv.xsf\", GaAs_conv)"
   ]
  },
  {
   "cell_type": "markdown",
   "id": "synthetic-electronics",
   "metadata": {},
   "source": [
    "Now, to compare both structures (they should be identical), we import the FFingerPrint class and load the structures into the object."
   ]
  },
  {
   "cell_type": "code",
   "execution_count": null,
   "id": "included-nation",
   "metadata": {},
   "outputs": [],
   "source": [
    "from aim2dat.strct import StructureCollection\n",
    "\n",
    "strct_collection = StructureCollection()\n",
    "strct_collection.append_from_ase_atoms(\"GaAs 216 prim\", GaAs_prim)\n",
    "strct_collection.append_from_ase_atoms(\"GaAs 216 conv\", GaAs_conv)"
   ]
  },
  {
   "cell_type": "markdown",
   "id": "blank-intersection",
   "metadata": {},
   "source": [
    "Now we can calculate the f-fingerprint and compare the elemental contributions:"
   ]
  },
  {
   "cell_type": "code",
   "execution_count": null,
   "id": "approximate-finding",
   "metadata": {},
   "outputs": [],
   "source": [
    "from aim2dat.plots import PartialRDFPlot\n",
    "\n",
    "plot = PartialRDFPlot()\n",
    "plot.ratio = (10, 4)\n",
    "plot.show_legend = True\n",
    "plot.y_label = \"F-Fingerprint\"\n",
    "element_fingerprints, atomic_fingerprints = strct_collection[\n",
    "    \"GaAs 216 conv\"\n",
    "].calc_ffingerprint()\n",
    "plot.import_ffingerprint(\"GaAs 216 conv\", **element_fingerprints, x_unit=\"ang\")\n",
    "element_fingerprints, atomic_fingerprints = strct_collection[\n",
    "    \"GaAs 216 prim\"\n",
    "].calc_ffingerprint()\n",
    "plot.import_ffingerprint(\"GaAs 216 prim\", **element_fingerprints, x_unit=\"ang\")\n",
    "plot.plot([\"GaAs 216 conv\", \"GaAs 216 prim\"])"
   ]
  },
  {
   "cell_type": "markdown",
   "id": "german-translator",
   "metadata": {},
   "source": [
    "We can already see that both structures have the same fingerprints. \n",
    "Now we can also calculate the similarity of the two structures based on the cosine-distance:"
   ]
  },
  {
   "cell_type": "code",
   "execution_count": null,
   "id": "personalized-vaccine",
   "metadata": {},
   "outputs": [],
   "source": [
    "from aim2dat.strct import StructureOperations\n",
    "\n",
    "strct_op = StructureOperations(structures=strct_collection)\n",
    "strct_op.compare_structures_via_ffingerprint(\"GaAs 216 prim\", \"GaAs 216 conv\", use_weights=True)"
   ]
  }
 ],
 "metadata": {
  "kernelspec": {
   "display_name": "Python 3 (ipykernel)",
   "language": "python",
   "name": "python3"
  },
  "language_info": {
   "codemirror_mode": {
    "name": "ipython",
    "version": 3
   },
   "file_extension": ".py",
   "mimetype": "text/x-python",
   "name": "python",
   "nbconvert_exporter": "python",
   "pygments_lexer": "ipython3",
   "version": "3.11.12"
  }
 },
 "nbformat": 4,
 "nbformat_minor": 5
}
