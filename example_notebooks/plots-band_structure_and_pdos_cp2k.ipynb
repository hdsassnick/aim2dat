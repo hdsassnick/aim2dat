{
 "cells": [
  {
   "cell_type": "markdown",
   "id": "b9916589",
   "metadata": {},
   "source": [
    "# Plotting the band structure and projected density of states (pDOS) from CP2K output-files\n",
    "\n",
    "_A more detailed description of the different features is given in the example [Plotting the band structure and projected density of states (pDOS) from Quantum ESPRESSO output-files](plots-band_structure_and_pdos_qe.ipynb)._\n",
    "\n",
    "## The band structure plot\n",
    "\n",
    "\n",
    "To plot the band structure from the CP2K output the function ``read_cp2k_band_structure`` from the `io` sub-package can be used to parse the eigenvalues and k-points from the band output file:"
   ]
  },
  {
   "cell_type": "code",
   "execution_count": null,
   "id": "a759f856",
   "metadata": {},
   "outputs": [],
   "source": [
    "from aim2dat.io import read_cp2k_band_structure\n",
    "\n",
    "band_structure = read_cp2k_band_structure(\"files/el_bands_cp2k/bands.bs\")"
   ]
  },
  {
   "cell_type": "markdown",
   "id": "cd98a4de",
   "metadata": {},
   "source": [
    "The output of the function is a dictionary containing a list of k-points and a nested list of eigenvalues:"
   ]
  },
  {
   "cell_type": "code",
   "execution_count": null,
   "id": "5bf75c4d",
   "metadata": {},
   "outputs": [],
   "source": [
    "band_structure.keys()"
   ]
  },
  {
   "cell_type": "markdown",
   "id": "e7eab5aa",
   "metadata": {
    "raw_mimetype": "text/restructuredtext"
   },
   "source": [
    "Now the ``BandStructurePlot`` class in the ``plots`` sub-package is used to visualize the band structure.\n",
    "For non-cubic systems the unit-cell needs to be given as nested list or numpy-array to scale the k-points accordingly using the function ``set_reference_cell``.\n",
    "Additional attributes can be set to show and store the plot:"
   ]
  },
  {
   "cell_type": "code",
   "execution_count": null,
   "id": "88a4988c",
   "metadata": {},
   "outputs": [],
   "source": [
    "from aim2dat.plots.band_structure_dos import BandStructurePlot\n",
    "\n",
    "bands_plot = BandStructurePlot()\n",
    "bands_plot.store_path = \".\"\n",
    "bands_plot.store_plot = True\n",
    "bands_plot.show_plot = True\n",
    "bands_plot.set_reference_cell(\n",
    "    [\n",
    "        [9.389, 0.000, 0.000],\n",
    "        [0.000, 5.865, 0.000],\n",
    "        [0.000, 0.000, 11.591],\n",
    "    ]\n",
    ")"
   ]
  },
  {
   "cell_type": "markdown",
   "id": "e2e4acf8",
   "metadata": {},
   "source": [
    "The band structure can now be loaded into the object and plotted:"
   ]
  },
  {
   "cell_type": "code",
   "execution_count": null,
   "id": "d05702d7",
   "metadata": {},
   "outputs": [],
   "source": [
    "bands_plot.import_band_structure(\n",
    "    data_label=\"test_band_structure\",\n",
    "    kpoints=band_structure[\"kpoints\"],\n",
    "    occupations=band_structure[\"occupations\"],\n",
    "    path_labels=band_structure[\"path_labels\"],\n",
    "    bands=band_structure[\"bands\"],\n",
    "    unit_y=band_structure[\"unit_y\"],\n",
    "    align_to_vbm=True,\n",
    ")"
   ]
  },
  {
   "cell_type": "code",
   "execution_count": null,
   "id": "dc28f8ba",
   "metadata": {},
   "outputs": [],
   "source": [
    "plot = bands_plot.plot(\n",
    "    \"test_band_structure\", plot_title=\"Bandstructure\", plot_name=\"bands_plot.png\"\n",
    ")"
   ]
  },
  {
   "cell_type": "markdown",
   "id": "c5a01152",
   "metadata": {
    "raw_mimetype": "text/restructuredtext"
   },
   "source": [
    "## The projected density of states plot\n",
    "\n",
    "The procedure to plot the projected density of states is very similar to plotting the band structure. There is a function in the ``io`` sub-package to parse the projected density of states from the output-files.\n",
    "\n",
    "In this case the path to the folder needs to be given. Based on the standard pattern of the file names of CP2K the corresponding files are read and the information is parsed:"
   ]
  },
  {
   "cell_type": "code",
   "execution_count": null,
   "id": "20192399",
   "metadata": {},
   "outputs": [],
   "source": [
    "from aim2dat.io import read_cp2k_atom_proj_density_of_states\n",
    "\n",
    "pdos = read_cp2k_atom_proj_density_of_states(\"files/el_pdos_cp2k/\")\n",
    "\n",
    "print(pdos[\"pdos\"][0].keys())"
   ]
  },
  {
   "cell_type": "markdown",
   "id": "d1a4ba34",
   "metadata": {
    "raw_mimetype": "text/restructuredtext"
   },
   "source": [
    "Next, an object of the ``DOSPlot`` class is created and the pojected density of states can be loaded. We shift the pDOS straight-away such that the valence band maximum is at 0 eV with the parameter ``shift_dos``.\n",
    "\n",
    "The parameters ``sum_kinds``, ``sum_principal_qn`` and ``sum_magnetic_qn`` sum up over different atoms of the same element, the principal and magnetic quantum numbers, respectively.\n",
    "\n",
    "As the output of CP2K contains the energies and intensities of single levels it is necessary to apply smearing function to obtain reasonable results. Here, we can apply a Gaussian function whose sigma and delta parameters can be adjusted using the attributes ``smearing_delta`` and ``smearing_sigma``."
   ]
  },
  {
   "cell_type": "code",
   "execution_count": null,
   "id": "4b744efa",
   "metadata": {},
   "outputs": [],
   "source": [
    "from aim2dat.plots.band_structure_dos import DOSPlot\n",
    "\n",
    "dos_plot = DOSPlot()\n",
    "dos_plot.import_projected_dos(\n",
    "    \"test_pdos\",\n",
    "    pdos[\"energy\"],\n",
    "    pdos[\"pdos\"],\n",
    "    shift_dos=-pdos[\"e_fermi\"],\n",
    "    sum_kinds=True,\n",
    "    sum_principal_qn=True,\n",
    "    sum_magnetic_qn=True,\n",
    "    use_smearing=True,\n",
    ")"
   ]
  },
  {
   "cell_type": "code",
   "execution_count": null,
   "id": "ea15e6cf",
   "metadata": {},
   "outputs": [],
   "source": [
    "dos_plot.show_plot = True\n",
    "dos_plot.show_legend = True\n",
    "dos_plot.x_range = (-10, 5)\n",
    "plot = dos_plot.plot(\"test_pdos\")"
   ]
  },
  {
   "cell_type": "markdown",
   "id": "f0e2b7e4",
   "metadata": {},
   "source": [
    "The total density of states can be included by setting the attribute `sum_pdos` to `True`:"
   ]
  },
  {
   "cell_type": "code",
   "execution_count": null,
   "id": "6b0754dc",
   "metadata": {},
   "outputs": [],
   "source": [
    "dos_plot.sum_pdos = True\n",
    "plot = dos_plot.plot(\"test_pdos\")"
   ]
  },
  {
   "cell_type": "markdown",
   "id": "66d9f0cf",
   "metadata": {},
   "source": [
    "## Band structure + projected density of states plot\n",
    "\n",
    "The two previous plots can also be combined in one figure with the `BandStructureDOSPlot` class:"
   ]
  },
  {
   "cell_type": "code",
   "execution_count": null,
   "id": "257b435b",
   "metadata": {},
   "outputs": [],
   "source": [
    "from aim2dat.plots.band_structure_dos import BandStructureDOSPlot\n",
    "\n",
    "bands_dos_plot = BandStructureDOSPlot()\n",
    "bands_dos_plot.set_reference_cell(\n",
    "    [\n",
    "        [9.389, 0.000, 0.000],\n",
    "        [0.000, 5.865, 0.000],\n",
    "        [0.000, 0.000, 11.591],\n",
    "    ]\n",
    ")\n",
    "bands_dos_plot.show_plot = True\n",
    "bands_dos_plot.sum_pdos = True\n",
    "bands_dos_plot.import_band_structure(\n",
    "    data_label=\"test_band_structure_dos\",\n",
    "    kpoints=band_structure[\"kpoints\"],\n",
    "    path_labels=band_structure[\"path_labels\"],\n",
    "    occupations=band_structure[\"occupations\"],\n",
    "    bands=band_structure[\"bands\"],\n",
    "    unit_y=band_structure[\"unit_y\"],\n",
    ")\n",
    "bands_dos_plot.import_projected_dos(\n",
    "    \"test_band_structure_dos\",\n",
    "    pdos[\"energy\"],\n",
    "    pdos[\"pdos\"],\n",
    "    sum_kinds=True,\n",
    "    sum_principal_qn=True,\n",
    "    sum_magnetic_qn=True,\n",
    "    use_smearing=True,\n",
    ")\n",
    "plot = bands_dos_plot.plot(\"test_band_structure_dos\")"
   ]
  },
  {
   "cell_type": "markdown",
   "id": "b8b256ff",
   "metadata": {},
   "source": [
    "Finally, the range for the x- and y-axis can be adjusted and the valence band maximum is set to 0 eV:"
   ]
  },
  {
   "cell_type": "code",
   "execution_count": null,
   "id": "870d0101",
   "metadata": {},
   "outputs": [],
   "source": [
    "bands_dos_plot.ratio = (15, 6)\n",
    "bands_dos_plot.y_range = (-10, 10)\n",
    "bands_dos_plot.shift_bands_and_dos_to_vbm(\"test_band_structure_dos\")\n",
    "plot = bands_dos_plot.plot(\"test_band_structure_dos\")"
   ]
  }
 ],
 "metadata": {
  "celltoolbar": "Raw Cell Format",
  "kernelspec": {
   "display_name": "Python 3 (ipykernel)",
   "language": "python",
   "name": "python3"
  },
  "language_info": {
   "codemirror_mode": {
    "name": "ipython",
    "version": 3
   },
   "file_extension": ".py",
   "mimetype": "text/x-python",
   "name": "python",
   "nbconvert_exporter": "python",
   "pygments_lexer": "ipython3",
   "version": "3.10.13"
  }
 },
 "nbformat": 4,
 "nbformat_minor": 5
}
