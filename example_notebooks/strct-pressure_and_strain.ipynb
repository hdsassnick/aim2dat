{
 "cells": [
  {
   "cell_type": "markdown",
   "id": "9668fdac-9b30-47a0-8f4d-6c16cb40104c",
   "metadata": {},
   "source": [
    "# Pressure and Strain Transformations in the Crystal\n",
    "\n",
    "This notebook demonstrates how to use the `scale_unit_cell` function to apply pressure and strain transformations to a material's unit cell, modifying its lattice parameters in various ways, including:\r\n",
    "\n",
    "- **Pressure-Based Scaling**: Uses pressure and bulk modulus to calculate uniform strain\n",
    "\r\n",
    "- **UniforStrainng**: Appliestrainor uniformly across all lattice directionsn.\r\n",
    "- **Anisotropic Strain**: Applies strain along each lattice axis individually.\r\n",
    "- **Strain and Shear Transformations**: Utilizes a strain tensor to apply anisotrotrain and sh)._\r\n"
   ]
  },
  {
   "cell_type": "markdown",
   "id": "5d7a2127-a8d2-4b1f-a2e1-59cdc9c6a839",
   "metadata": {},
   "source": [
    "## Loading a Structure\n",
    "\n",
    "Crystals or molecules can be easily read from file and initiated as `Structure` object:"
   ]
  },
  {
   "cell_type": "code",
   "execution_count": null,
   "id": "3c95079c-5c63-4c46-97ba-239b2a361f9c",
   "metadata": {},
   "outputs": [],
   "source": [
    "from aim2dat.strct import Structure\n",
    "strct = Structure.from_file(\"files/strc/Zn_MOF5_H_conv.xyz\", label=\"Zn_MOF5_H\")"
   ]
  },
  {
   "cell_type": "markdown",
   "id": "e6ce5766-5443-4910-b041-34b00d0c8e81",
   "metadata": {},
   "source": [
    "## Example 1: Pressure-Based Scaling\r\n",
    "Applies 10 GPa pressure to `strct` using a bulk modulus of 1600 GPa. The resulting lattice parameters show the effect of the applied pressure.s.\r\n"
   ]
  },
  {
   "cell_type": "code",
   "execution_count": null,
   "id": "1a4a8e0e-8eac-40b3-a3c4-e18659398042",
   "metadata": {},
   "outputs": [],
   "source": [
    "pressure_applied_structure = strct.scale_unit_cell(\n",
    "    pressure= 1, # Pressure in GPa.\n",
    "    bulk_modulus=16.0,  # Bulk modulus in GPa, MOF-5\n",
    "    change_label=True\n",
    ")"
   ]
  },
  {
   "cell_type": "markdown",
   "id": "d7d2fa41-7555-414d-a853-496898090f68",
   "metadata": {},
   "source": [
    "Create a pandas `DataFrame` to compare original and pressure-applied lattice parameters."
   ]
  },
  {
   "cell_type": "code",
   "execution_count": null,
   "id": "0363dce3-5849-44f0-a806-dc18ec302fe6",
   "metadata": {},
   "outputs": [],
   "source": [
    "import pandas as pd\n",
    "\n",
    "pressure_lattice_comparison = pd.DataFrame({\n",
    "    \"Original\": strct.cell,\n",
    "    \"Pressure Applied (10 GPa)\": pressure_applied_structure.cell\n",
    "}, index=[\"x\", \"y\", \"z\"])\n",
    "\n",
    "display(pressure_lattice_comparison)\n"
   ]
  },
  {
   "cell_type": "markdown",
   "id": "273128d4-6fc2-4291-900c-6e852cccc9cc",
   "metadata": {},
   "source": [
    "## Example 2: Uniform Strain\r\n",
    "\r\n",
    "In this simpst example, we apply uniform scaling t` `strct` using a scaling factor of 1.1:\r\n",
    "\r\n",
    "- `scale_unit_cell` scales all lattice parameters uniformly by 1.1.\r\n",
    "- `change_label=True` updates the label to reflect the transformatiation.\r\n",
    "cling.\r\n"
   ]
  },
  {
   "cell_type": "code",
   "execution_count": null,
   "id": "94b95fa1-a022-4174-aa68-6fca9dd075d9",
   "metadata": {},
   "outputs": [],
   "source": [
    "uniform_scaled_structure = strct.scale_unit_cell(\n",
    "    scaling_factors=1.1,  # Uniform scaling factor\n",
    "    change_label=True\n",
    ")"
   ]
  },
  {
   "cell_type": "markdown",
   "id": "7161c878-ce2a-4524-bf14-21ca0e8e9f88",
   "metadata": {},
   "source": [
    "Create a pandas `DataFrame` to compare original and scaled lattice parameters."
   ]
  },
  {
   "cell_type": "code",
   "execution_count": null,
   "id": "05dc10d2-4d7e-4a24-8f7b-79ab3f871bae",
   "metadata": {},
   "outputs": [],
   "source": [
    "lattice_comparison = pd.DataFrame({\n",
    "    \"Original\": strct.cell,\n",
    "    \"Uniform Scaled (1.1)\": uniform_scaled_structure.cell\n",
    "}, index=[\"x\", \"y\", \"z\"])\n",
    "display(lattice_comparison)"
   ]
  },
  {
   "cell_type": "markdown",
   "id": "28da2370-876f-421d-b5ef-1477783448b3",
   "metadata": {},
   "source": [
    "## Example 3: Anisotropic Strain\r\n",
    "\r\n",
    "Applies anisotropic strain to `str0]` with specified strains along each axis: 2% along x, -1% along y, and 3% along z. The updated lattice parameters are printed to show the effect.\r\n"
   ]
  },
  {
   "cell_type": "code",
   "execution_count": null,
   "id": "4c383721-1a5b-4faf-93f8-24729107eb58",
   "metadata": {},
   "outputs": [],
   "source": [
    "anisotropic_strain_structure = strct.scale_unit_cell(\n",
    "    scaling_factors=[1.02, 0.99, 1.03], \n",
    "    change_label=True\n",
    ")"
   ]
  },
  {
   "cell_type": "markdown",
   "id": "d7347d2e-2b43-49c7-9577-e33f66c55dc0",
   "metadata": {},
   "source": [
    "Create a pandas `DataFrame` to compare original and anisotropically strained lattice parameters."
   ]
  },
  {
   "cell_type": "code",
   "execution_count": null,
   "id": "65d27c55-f8e7-4aac-960a-4596977ad299",
   "metadata": {},
   "outputs": [],
   "source": [
    "anisotropic_lattice_comparison = pd.DataFrame({\n",
    "    \"Original\": strct.cell,\n",
    "    \"Anisotropic Strain [1.02, 0.99, 1.03]\": anisotropic_strain_structure.cell\n",
    "}, index=[\"x\", \"y\", \"z\"])\n",
    "\n",
    "display(anisotropic_lattice_comparison)"
   ]
  },
  {
   "cell_type": "markdown",
   "id": "9a9dc0c1-f43c-4295-a808-8507f5c4dc15",
   "metadata": {},
   "source": [
    "## Example 4: Anisotropic Strain and Shear Transformation\r\n",
    "\r\n",
    "Applies a 3x3 strain tensor to `str0]`, introducing both anisotropic strain and shear:\r\n",
    "\r\n",
    "- The strain matrix specifies 2% strain along x, -1% along y, 3% along z, and shear components between x, y, and z axes.\r\n",
    "- The `scale_unit_cell` function applies these transformations, and `change_label=True` updates the label.\r\n",
    "\r\n",
    "The initial and transformed lattice parameters are printed to display the effects.\r\n"
   ]
  },
  {
   "cell_type": "code",
   "execution_count": null,
   "id": "3eb30670-a887-4c0c-85dd-b5f44a4bb4df",
   "metadata": {},
   "outputs": [],
   "source": [
    "strain_matrix = [\n",
    "    [1.02, 0.01, 0.0],  # 2% strain along x, 0.01 shear strain between x and y.\n",
    "    [0.01, 0.99, 0.0],  # -1% strain along y, 0.01 shear strain between y and x.\n",
    "    [0.0, 0.02, 1.03]    # 3% strain along z, 0.02 shear strain between z and y.\n",
    "]\n",
    "\n",
    "anisotropic_strain_structure = strct.scale_unit_cell(\n",
    "    scaling_factors=strain_matrix,\n",
    "    change_label=True\n",
    ")"
   ]
  },
  {
   "cell_type": "markdown",
   "id": "f7e93bb1-9011-4ea5-9d8c-02712bede086",
   "metadata": {},
   "source": [
    "Create a pandas `DataFrame` to compare original and strained lattice parameters."
   ]
  },
  {
   "cell_type": "code",
   "execution_count": null,
   "id": "4290ae9a-f995-46c3-8e24-647e4cdc8675",
   "metadata": {},
   "outputs": [],
   "source": [
    "tensor_lattice_comparison = pd.DataFrame({\n",
    "    \"Original\": strct.cell,\n",
    "    \"3x3 Strain Tensor Applied\": anisotropic_strain_structure.cell\n",
    "}, index=[\"x\", \"y\", \"z\"])\n",
    "display(tensor_lattice_comparison)"
   ]
  },
  {
   "cell_type": "markdown",
   "id": "5e172486-d475-43d0-a57d-d2d834f482c6",
   "metadata": {},
   "source": [
    "It is also possible to save the new structure as a .xyz file."
   ]
  },
  {
   "cell_type": "code",
   "execution_count": null,
   "id": "8fcbaf7f-0434-4d12-abb4-f5b50587f700",
   "metadata": {},
   "outputs": [],
   "source": [
    "anisotropic_strain_structure.to_file(\"files/strc/annisotropic_strain.xyz\")"
   ]
  }
 ],
 "metadata": {
  "kernelspec": {
   "display_name": "Python 3 (ipykernel)",
   "language": "python",
   "name": "python3"
  },
  "language_info": {
   "codemirror_mode": {
    "name": "ipython",
    "version": 3
   },
   "file_extension": ".py",
   "mimetype": "text/x-python",
   "name": "python",
   "nbconvert_exporter": "python",
   "pygments_lexer": "ipython3",
   "version": "3.11.11"
  }
 },
 "nbformat": 4,
 "nbformat_minor": 5
}
